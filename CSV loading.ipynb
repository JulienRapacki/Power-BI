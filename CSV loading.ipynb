{
 "cells": [
  {
   "cell_type": "code",
   "execution_count": 0,
   "metadata": {
    "application/vnd.databricks.v1+cell": {
     "cellMetadata": {
      "byteLimit": 2048000,
      "rowLimit": 10000
     },
     "inputWidgets": {},
     "nuid": "7cd999f7-86df-4942-bd08-457fb51fc638",
     "showTitle": false,
     "tableResultSettingsMap": {},
     "title": ""
    }
   },
   "outputs": [],
   "source": [
    "from pyspark.sql import SparkSession\n",
    "\n",
    "# Dossier contenant les fichiers CSV\n",
    "input_path = \"s3://databricks-workspace-stack-702cc-bucket/Contoso_src\"\n",
    "\n",
    "# Lister les fichiers CSV\n",
    "files = dbutils.fs.ls(input_path)\n",
    "\n",
    "# Charger chaque fichier dans une table SQL\n",
    "for file in files:\n",
    "    if file.name.endswith(\".csv\"):\n",
    "        table_name = file.name.replace(\".csv\", \"\")\n",
    "        df = spark.read.format(\"csv\") \\\n",
    "            .option(\"header\", \"true\") \\\n",
    "            .option(\"inferSchema\", \"true\") \\\n",
    "            .option(\"overwriteSchema\", \"true\") \\\n",
    "            .option(\"delimiter\", \",\")  \\\n",
    "            .load(file.path)\n",
    "        # Sauvegarder la table dans le format Delta\n",
    "        df.write.format(\"delta\") \\\n",
    "            .mode(\"overwrite\") \\\n",
    "            .saveAsTable(f\"contoso.{table_name}\"+\"_src\")"
   ]
  }
 ],
 "metadata": {
  "application/vnd.databricks.v1+notebook": {
   "computePreferences": null,
   "dashboards": [],
   "environmentMetadata": {
    "base_environment": "",
    "client": "1"
   },
   "language": "python",
   "notebookMetadata": {
    "pythonIndentUnit": 4
   },
   "notebookName": "CSV loading",
   "widgets": {}
  },
  "language_info": {
   "name": "python"
  }
 },
 "nbformat": 4,
 "nbformat_minor": 0
}